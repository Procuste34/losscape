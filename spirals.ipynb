{
 "cells": [
  {
   "cell_type": "code",
   "execution_count": 8,
   "metadata": {},
   "outputs": [],
   "source": [
    "import torch\n",
    "import torch.nn as nn\n",
    "import torch.nn.functional as F\n",
    "\n",
    "from torch.utils.data import Dataset, DataLoader\n",
    "\n",
    "import matplotlib.pyplot as plt\n",
    "import numpy as np\n",
    "\n",
    "from losscape.train import train\n",
    "from losscape.create_landscape import create_1D_losscape, create_2D_losscape"
   ]
  },
  {
   "cell_type": "code",
   "execution_count": 4,
   "metadata": {},
   "outputs": [],
   "source": [
    "class SpiralDataset(Dataset):\n",
    "    def __init__(self, N, K):\n",
    "        self.X, self.y = self.generate_spiral_dataset(N, K)\n",
    "        \n",
    "        # Convert numpy arrays to PyTorch tensors\n",
    "        self.X = torch.from_numpy(self.X).float()\n",
    "        self.y = torch.from_numpy(self.y).long()\n",
    "\n",
    "    def generate_spiral_dataset(self, N, K):\n",
    "        X = np.zeros((N*K, 2)) # data matrix (each row = single example)\n",
    "        y = np.zeros(N*K, dtype='uint8') # class labels\n",
    "\n",
    "        for j in range(K):\n",
    "            ix = range(N*j, N*(j+1))\n",
    "            r = np.linspace(0.0, 1, N) # rayon\n",
    "            t = np.linspace(j*4, (j+1)*4, N) + np.random.randn(N)*0.2 # theta\n",
    "            X[ix] = np.c_[r*np.sin(t), r*np.cos(t)]\n",
    "            y[ix] = j\n",
    "\n",
    "        return X, y\n",
    "\n",
    "    def __len__(self):\n",
    "        return len(self.y)\n",
    "\n",
    "    def __getitem__(self, idx):\n",
    "        return self.X[idx], self.y[idx]\n",
    "\n",
    "N = 100 # number of points per class\n",
    "K = 3 # number of classes\n",
    "\n",
    "spiral_dataset_train = SpiralDataset(N, K)\n",
    "spiral_dataset_test = SpiralDataset(N, K)\n",
    "\n",
    "train_loader = DataLoader(spiral_dataset_train, batch_size=3*N, shuffle=True)\n",
    "test_loader = DataLoader(spiral_dataset_train, batch_size=3*N, shuffle=False)\n",
    "train_loader_fixed = DataLoader(spiral_dataset_train, batch_size=3*N, shuffle=False)"
   ]
  },
  {
   "cell_type": "code",
   "execution_count": 5,
   "metadata": {},
   "outputs": [],
   "source": [
    "class MLP(nn.Module):\n",
    "    def __init__(self):\n",
    "        super(MLP, self).__init__()\n",
    "\n",
    "        self.fc1 = nn.Linear(2, 100)\n",
    "        self.fc2 = nn.Linear(100, 30)\n",
    "        self.fc3 = nn.Linear(30, 3)\n",
    "\n",
    "    def forward(self, x):\n",
    "        x = self.fc1(x)\n",
    "        x = F.relu(x)\n",
    "        x = self.fc2(x)\n",
    "        x = F.relu(x)\n",
    "        x = self.fc3(x)\n",
    "        \n",
    "        return x"
   ]
  },
  {
   "cell_type": "code",
   "execution_count": 6,
   "metadata": {},
   "outputs": [],
   "source": [
    "model = MLP()\n",
    "optimizer = torch.optim.SGD(model.parameters(), lr=0.1, momentum=0.9, weight_decay=5e-4)"
   ]
  },
  {
   "cell_type": "code",
   "execution_count": 7,
   "metadata": {},
   "outputs": [
    {
     "name": "stdout",
     "output_type": "stream",
     "text": [
      "Epoch 250/1000. Loss=0.05105264484882355\n",
      "Epoch 500/1000. Loss=0.035023752599954605\n",
      "Epoch 750/1000. Loss=0.030976196750998497\n",
      "Epoch 1000/1000. Loss=0.029321003705263138\n"
     ]
    }
   ],
   "source": [
    "train(model, train_loader, epochs=1000, optimizer=optimizer)"
   ]
  },
  {
   "cell_type": "code",
   "execution_count": null,
   "metadata": {},
   "outputs": [],
   "source": []
  }
 ],
 "metadata": {
  "kernelspec": {
   "display_name": "torch23",
   "language": "python",
   "name": "python3"
  },
  "language_info": {
   "codemirror_mode": {
    "name": "ipython",
    "version": 3
   },
   "file_extension": ".py",
   "mimetype": "text/x-python",
   "name": "python",
   "nbconvert_exporter": "python",
   "pygments_lexer": "ipython3",
   "version": "3.11.3"
  },
  "orig_nbformat": 4
 },
 "nbformat": 4,
 "nbformat_minor": 2
}
