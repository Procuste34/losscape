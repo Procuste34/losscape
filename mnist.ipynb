{
 "cells": [
  {
   "cell_type": "code",
   "execution_count": 44,
   "metadata": {},
   "outputs": [],
   "source": [
    "import torch\n",
    "import torch.nn as nn\n",
    "import torch.nn.functional as F\n",
    "import torch.optim as optim\n",
    "from torchvision import datasets, transforms\n",
    "from torch.optim.lr_scheduler import StepLR\n",
    "\n",
    "import matplotlib.pyplot as plt\n",
    "import numpy as np"
   ]
  },
  {
   "cell_type": "code",
   "execution_count": 57,
   "metadata": {},
   "outputs": [],
   "source": [
    "batch_size = 64"
   ]
  },
  {
   "cell_type": "code",
   "execution_count": 58,
   "metadata": {},
   "outputs": [],
   "source": [
    "device = torch.device(\"cuda\")"
   ]
  },
  {
   "cell_type": "code",
   "execution_count": 59,
   "metadata": {},
   "outputs": [],
   "source": [
    "transform=transforms.Compose([\n",
    "        transforms.ToTensor(),\n",
    "        transforms.Normalize((0.1307,), (0.3081,))\n",
    "        ])\n",
    "dataset = datasets.MNIST('data', train=True, download=True, transform=transform)\n",
    "\n",
    "loader = torch.utils.data.DataLoader(dataset, batch_size=batch_size)"
   ]
  },
  {
   "cell_type": "code",
   "execution_count": 60,
   "metadata": {},
   "outputs": [],
   "source": [
    "class MLP(nn.Module):\n",
    "    def __init__(self):\n",
    "        super(MLP, self).__init__()\n",
    "        self.fc1 = nn.Linear(784, 10)\n",
    "\n",
    "    def forward(self, x):\n",
    "        x = self.fc1(x)\n",
    "        output = F.log_softmax(x, dim=1)\n",
    "        return output\n",
    "    \n",
    "    def get_flatten_params(self):\n",
    "        flatten_params = torch.tensor([], device=device)\n",
    "\n",
    "        for p in model.parameters():\n",
    "            flatten_params = torch.cat((flatten_params, torch.flatten(p)))\n",
    "\n",
    "        return flatten_params\n",
    "    \n",
    "    def _get_param_shapes(self):\n",
    "        param_shapes = []\n",
    "        for p in self.parameters():\n",
    "            param_shapes.append(p.size())\n",
    "        return param_shapes\n",
    "    \n",
    "    def init_from_flatten_params(self, flatten_params):\n",
    "        param_shapes = self._get_param_shapes()\n",
    "        param_sizes = [torch.prod(torch.tensor(shape)).item() for shape in param_shapes]\n",
    "        split_params = torch.split(flatten_params, param_sizes)\n",
    "\n",
    "        for p, split_param in zip(model.parameters(), split_params):\n",
    "            p.data.copy_(split_param.view(p.size()))\n",
    "\n",
    "\n",
    "model = MLP()\n",
    "model.to(device)\n",
    "\n",
    "optimizer = optim.SGD(model.parameters(), lr=0.01)"
   ]
  },
  {
   "cell_type": "code",
   "execution_count": null,
   "metadata": {},
   "outputs": [],
   "source": []
  },
  {
   "cell_type": "code",
   "execution_count": 61,
   "metadata": {},
   "outputs": [
    {
     "name": "stdout",
     "output_type": "stream",
     "text": [
      "0.17292475700378418\n",
      "0.13870519399642944\n",
      "0.12243898957967758\n",
      "0.11234267055988312\n",
      "0.10534582287073135\n"
     ]
    }
   ],
   "source": [
    "for epoch in range(5):\n",
    "    for batch_idx, (data, target) in enumerate(loader):\n",
    "        data, target = data.to(device), target.to(device)\n",
    "\n",
    "        Xb = data.view(-1, 784)\n",
    "        \n",
    "        optimizer.zero_grad()\n",
    "        output = model(Xb)\n",
    "        loss = F.nll_loss(output, target)\n",
    "        loss.backward()\n",
    "        optimizer.step()\n",
    "\n",
    "    print(loss.item())"
   ]
  },
  {
   "cell_type": "code",
   "execution_count": 67,
   "metadata": {},
   "outputs": [
    {
     "data": {
      "text/plain": [
       "91.71666666666667"
      ]
     },
     "execution_count": 67,
     "metadata": {},
     "output_type": "execute_result"
    }
   ],
   "source": [
    "correct = 0\n",
    "\n",
    "with torch.no_grad():\n",
    "    for data, target in loader:\n",
    "        data, target = data.to(device), target.to(device)\n",
    "        Xb = data.view(-1, 784)\n",
    "\n",
    "        output = model(Xb)\n",
    "\n",
    "        pred = output.argmax(dim=1, keepdim=True)  # get the index of the max log-probability\n",
    "        correct += pred.eq(target.view_as(pred)).sum().item()\n",
    "\n",
    "100. * correct / len(loader.dataset)"
   ]
  },
  {
   "cell_type": "code",
   "execution_count": 63,
   "metadata": {},
   "outputs": [],
   "source": [
    "#bs64 model : 91.7166 train acc\n",
    "flat_params_bs64 = model.get_flatten_params()"
   ]
  },
  {
   "cell_type": "code",
   "execution_count": 66,
   "metadata": {},
   "outputs": [],
   "source": [
    "model = MLP()\n",
    "model.to(device)\n",
    "model.init_from_flatten_params(flat_params_bs64)"
   ]
  },
  {
   "cell_type": "code",
   "execution_count": null,
   "metadata": {},
   "outputs": [],
   "source": []
  },
  {
   "cell_type": "code",
   "execution_count": 56,
   "metadata": {},
   "outputs": [],
   "source": []
  },
  {
   "cell_type": "code",
   "execution_count": 49,
   "metadata": {},
   "outputs": [],
   "source": [
    "flat_params_bs512 = torch.tensor([], device=device)\n",
    "\n",
    "for p in model.parameters():\n",
    "    flat_params_bs512 = torch.cat((flat_params_bs512, torch.flatten(p)))"
   ]
  },
  {
   "cell_type": "code",
   "execution_count": null,
   "metadata": {},
   "outputs": [],
   "source": []
  },
  {
   "cell_type": "code",
   "execution_count": 43,
   "metadata": {},
   "outputs": [],
   "source": [
    "# interpolate : alpha * theta_0 + (1-alpha) * theta_1"
   ]
  },
  {
   "cell_type": "code",
   "execution_count": 71,
   "metadata": {},
   "outputs": [
    {
     "name": "stdout",
     "output_type": "stream",
     "text": [
      "alpha = 0.0\n",
      "alpha = 0.1111111119389534\n",
      "alpha = 0.2222222238779068\n",
      "alpha = 0.3333333432674408\n",
      "alpha = 0.4444444477558136\n",
      "alpha = 0.5555555820465088\n",
      "alpha = 0.6666666865348816\n",
      "alpha = 0.7777777910232544\n",
      "alpha = 0.8888888955116272\n",
      "alpha = 1.0\n"
     ]
    }
   ],
   "source": [
    "alphas = torch.linspace(start=0, end=1, steps=10)\n",
    "losses = []\n",
    "\n",
    "model = MLP()\n",
    "model.to(device)\n",
    "\n",
    "for alpha in alphas:\n",
    "    print(\"alpha = {}\".format(alpha))\n",
    "    #calculer le cout pour alpha * theta_0 + (1-alpha) * theta_1\n",
    "\n",
    "    model.init_from_flatten_params(alpha * flat_params_bs64 + (1 - alpha) * flat_params_bs512)\n",
    "    loss = 0\n",
    "    compteur = 0\n",
    "\n",
    "    with torch.no_grad():\n",
    "        for data, target in loader:\n",
    "            data, target = data.to(device), target.to(device)\n",
    "            Xb = data.view(-1, 784)\n",
    "\n",
    "            output = model(Xb)\n",
    "            loss += F.nll_loss(output, target).item()\n",
    "            compteur += 1\n",
    "\n",
    "    loss = loss / compteur #todo : len(loader) ?\n",
    "    losses.append(loss)"
   ]
  },
  {
   "cell_type": "code",
   "execution_count": 75,
   "metadata": {},
   "outputs": [
    {
     "data": {
      "text/plain": [
       "[0.3756749568455445,\n",
       " 0.35788753579881016,\n",
       " 0.3428505510290358,\n",
       " 0.33018824579650913,\n",
       " 0.31958440669389293,\n",
       " 0.31077246901704303,\n",
       " 0.30352724612410514,\n",
       " 0.29765805733928297,\n",
       " 0.29300297151154864,\n",
       " 0.2894240034354934]"
      ]
     },
     "execution_count": 75,
     "metadata": {},
     "output_type": "execute_result"
    }
   ],
   "source": [
    "losses"
   ]
  },
  {
   "cell_type": "code",
   "execution_count": 78,
   "metadata": {},
   "outputs": [
    {
     "data": {
      "text/plain": [
       "[<matplotlib.lines.Line2D at 0x7f4a07300bd0>]"
      ]
     },
     "execution_count": 78,
     "metadata": {},
     "output_type": "execute_result"
    },
    {
     "data": {
      "image/png": "[encoded data removed]",
      "text/plain": [
       "<Figure size 640x480 with 1 Axes>"
      ]
     },
     "metadata": {},
     "output_type": "display_data"
    }
   ],
   "source": [
    "plt.plot(alphas, losses)"
   ]
  },
  {
   "cell_type": "code",
   "execution_count": null,
   "metadata": {},
   "outputs": [],
   "source": []
  }
 ],
 "metadata": {
  "kernelspec": {
   "display_name": "torch23",
   "language": "python",
   "name": "python3"
  },
  "language_info": {
   "codemirror_mode": {
    "name": "ipython",
    "version": 3
   },
   "file_extension": ".py",
   "mimetype": "text/x-python",
   "name": "python",
   "nbconvert_exporter": "python",
   "pygments_lexer": "ipython3",
   "version": "3.11.3"
  },
  "orig_nbformat": 4
 },
 "nbformat": 4,
 "nbformat_minor": 2
}
